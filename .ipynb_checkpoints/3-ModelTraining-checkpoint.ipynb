{
 "cells": [
  {
   "cell_type": "markdown",
   "metadata": {},
   "source": [
    "\n",
    "<h1> DS200A Computer Vision Assignment</h1>"
   ]
  },
  {
   "cell_type": "markdown",
   "metadata": {},
   "source": [
    "<h2>  Part Three: Training Models </h2>\t"
   ]
  },
  {
   "cell_type": "code",
   "execution_count": null,
   "metadata": {},
   "outputs": [],
   "source": [
    "import os\n",
    "from pathlib import Path\n",
    "import seaborn as sns\n",
    "import sklearn\n",
    "from sklearn import model_selection\n",
    "from sklearn import linear_model as lm\n",
    "import numpy as np\n",
    "import matplotlib.pyplot as plt\n",
    "import pandas as pd\n",
    "import sklearn.ensemble as ens\n",
    "from sklearn.model_selection import GridSearchCV,StratifiedShuffleSplit\n",
    "import warnings\n",
    "warnings.filterwarnings('ignore')\n",
    "\n",
    "categories = ['airplanes', 'bear', 'blimp', 'comet', 'crab', 'dog', 'dolphin', 'giraffe', 'goat', 'gorilla', 'kangaroo', 'killer-whale', 'leopards', 'llama', 'penguin', 'porcupine', 'teddy-bear', 'triceratops', 'unicorn', 'zebra']"
   ]
  },
  {
   "cell_type": "code",
   "execution_count": 21,
   "metadata": {},
   "outputs": [],
   "source": [
    "def train_test_split(df):\n",
    "    df=model_selection.train_test_split(df, test_size=0.2, random_state=314)\n",
    "    return df\n",
    "#Split the data into a training set, and test set \n",
    "\n",
    "def accuracy(pred, actual):\n",
    "    return (np.array(pred)==np.array(actual)).mean()\n",
    "# Calculate the accuracy percentage of the predicted values\n",
    "\n",
    "def normalize(df):\n",
    "    return (df-df.mean())/df.std() ## important to normalize our features; we use mean=0, var=1\n",
    "\n",
    "def accuracies(predictions,y_true): ### returns accuracies in the different categories\n",
    "    return [(predictions[y_true == i] == i).mean() for i in range(20)]\n",
    "        \n",
    "\n",
    "folder_names_list = ['airplanes', 'bear', 'blimp', 'comet', 'crab', 'dog', 'dolphin', 'giraffe', 'goat', 'gorilla', 'kangaroo', 'killer-whale', 'leopards', 'llama', 'penguin', 'porcupine', 'teddy-bear', 'triceratops', 'unicorn', 'zebra']\n",
    "encoding_list = range(20)\n",
    "encoding = dict(zip(folder_names_list, encoding_list))\n",
    "names = dict([[v,k] for k,v in encoding.items()])"
   ]
  },
  {
   "cell_type": "code",
   "execution_count": 22,
   "metadata": {},
   "outputs": [],
   "source": [
    "### load the feature frames\n",
    "#data_file = Path('/Users/will/Documents/Berkeley/Classes/DS100/Projects/GradProject', \"features.hdf\") # Path of hdf file\n",
    "data_file = Path('C:/Users/Illan/Desktop/DS100/GradProjectFiles', \"features.hdf\") # Path of hdf file\n",
    "df = pd.read_hdf(data_file,\"features\")\n",
    "df_gray = pd.read_hdf(data_file,\"features_gray\")"
   ]
  },
  {
   "cell_type": "code",
   "execution_count": 23,
   "metadata": {},
   "outputs": [],
   "source": [
    "### Create the train-test split, evenly across all categories\n",
    "\n",
    "X = df.iloc[:,1:]\n",
    "y = df.iloc[:,0]\n",
    "train = pd.DataFrame(columns=df.columns)\n",
    "val = pd.DataFrame(columns=df.columns)\n",
    "\n",
    "for encoding in df.Encoding.unique():\n",
    "    [train_temp,val_temp]=train_test_split(df.loc[y==encoding])\n",
    "    train = train.append(train_temp)\n",
    "    val = val.append(val_temp)\n",
    "    \n",
    "X_train, y_train = train.iloc[:,1:],train.iloc[:,0]\n",
    "X_val, y_val = val.iloc[:,1:],val.iloc[:,0]\n",
    "\n",
    "X_train_norm,X_val_norm = normalize(X_train), normalize(X_val)\n",
    "y_train = y_train.astype('int')\n",
    "y_val = y_val.astype('int')"
   ]
  },
  {
   "cell_type": "code",
   "execution_count": 24,
   "metadata": {},
   "outputs": [],
   "source": [
    "### Same for the gray data frame\n",
    "\n",
    "X_gray = df_gray.iloc[:,1:]\n",
    "y_gray = df_gray.iloc[:,0]\n",
    "train_gray = pd.DataFrame(columns=df_gray.columns)\n",
    "val_gray = pd.DataFrame(columns=df_gray.columns)\n",
    "\n",
    "for encoding in df_gray.Encoding.unique():\n",
    "    [train_temp_gray,val_temp_gray]=train_test_split(df_gray.loc[y_gray==encoding])\n",
    "    train_gray = train_gray.append(train_temp_gray)\n",
    "    val_gray = val_gray.append(val_temp_gray)\n",
    "    \n",
    "X_train_gray, y_train_gray = train_gray.iloc[:,1:],train_gray.iloc[:,0]\n",
    "X_val_gray, y_val_gray = val_gray.iloc[:,1:],val_gray.iloc[:,0]\n",
    "\n",
    "X_train_norm_gray,X_val_norm_gray = normalize(X_train_gray), normalize(X_val_gray)\n",
    "y_train_gray = y_train_gray.astype('int')\n",
    "y_val_gray = y_val_gray.astype('int')"
   ]
  },
  {
   "cell_type": "code",
   "execution_count": 25,
   "metadata": {},
   "outputs": [
    {
     "name": "stderr",
     "output_type": "stream",
     "text": [
      "C:\\Users\\Illan\\Anaconda3\\lib\\site-packages\\scipy\\stats\\stats.py:1713: FutureWarning: Using a non-tuple sequence for multidimensional indexing is deprecated; use `arr[tuple(seq)]` instead of `arr[seq]`. In the future this will be interpreted as an array index, `arr[np.array(seq)]`, which will result either in an error or a different result.\n",
      "  return np.add.reduce(sorted[indexer] * weights, axis=axis) / sumval\n"
     ]
    },
    {
     "data": {
      "image/png": "[encoded data removed]",
      "text/plain": [
       "<Figure size 432x288 with 1 Axes>"
      ]
     },
     "metadata": {
      "needs_background": "light"
     },
     "output_type": "display_data"
    }
   ],
   "source": [
    "### Creates a histogram of the distribution of labels in the validation set\n",
    "sns.distplot(y_val,bins=range(21))\n",
    "plt.show()"
   ]
  },
  {
   "cell_type": "markdown",
   "metadata": {},
   "source": [
    "<h3>  Train models using all of the following methods below. Be sure to drop the actual image column, and the encoding</h3>\tTake note of the differences in accuracy, and methods.\n"
   ]
  },
  {
   "cell_type": "markdown",
   "metadata": {},
   "source": [
    "<h4> Logistic Regression </h4>"
   ]
  },
  {
   "cell_type": "code",
   "execution_count": 26,
   "metadata": {},
   "outputs": [
    {
     "name": "stdout",
     "output_type": "stream",
     "text": [
      "validation accuracy:  0.22039473684210525\n",
      "train accuracy:  0.2447078746824725\n"
     ]
    }
   ],
   "source": [
    "### un-normalized data\n",
    "\n",
    "logreg_model=lm.LogisticRegressionCV()\n",
    "logreg_model.fit(X_train,y_train)\n",
    "log_val_acc = accuracy(logreg_model.predict(X_val),y_val)\n",
    "log_train_acc = accuracy(logreg_model.predict(X_train),y_train)\n",
    "print(\"validation accuracy: \",log_val_acc)\n",
    "print(\"train accuracy: \",log_train_acc)"
   ]
  },
  {
   "cell_type": "code",
   "execution_count": 27,
   "metadata": {},
   "outputs": [
    {
     "name": "stdout",
     "output_type": "stream",
     "text": [
      "validation accuracy:  0.20723684210526316\n",
      "train accuracy:  0.32345469940728194\n"
     ]
    }
   ],
   "source": [
    "### normalized data\n",
    "\n",
    "logreg_model=lm.LogisticRegressionCV()\n",
    "logreg_model.fit(X_train_norm,y_train)\n",
    "log_val_acc = accuracy(logreg_model.predict(X_val_norm),y_val)\n",
    "log_train_acc = accuracy(logreg_model.predict(X_train_norm),y_train)\n",
    "print(\"validation accuracy: \",log_val_acc)\n",
    "print(\"train accuracy: \",log_train_acc)"
   ]
  },
  {
   "cell_type": "code",
   "execution_count": 28,
   "metadata": {},
   "outputs": [
    {
     "name": "stderr",
     "output_type": "stream",
     "text": [
      "C:\\Users\\Illan\\Anaconda3\\lib\\site-packages\\sklearn\\metrics\\classification.py:1135: UndefinedMetricWarning: Precision and F-score are ill-defined and being set to 0.0 in labels with no predicted samples.\n",
      "  'precision', 'predicted', average, warn_for)\n"
     ]
    },
    {
     "data": {
      "image/png": "[encoded data removed]",
      "text/plain": [
       "<Figure size 432x288 with 1 Axes>"
      ]
     },
     "metadata": {
      "needs_background": "light"
     },
     "output_type": "display_data"
    }
   ],
   "source": [
    "### Plots the accuracy of the model by category\n",
    "logreg_eval=sklearn.metrics.precision_recall_fscore_support(y_val,logreg_model.predict(X_val_norm),labels=range(20))\n",
    "plot=sns.barplot(x= categories,y=logreg_eval[0])\n",
    "plt.ylim([0,1])\n",
    "plt.ylabel('Accuracy')\n",
    "plt.title('Accuracy by category, Logistic Regression')\n",
    "plot.axhline(y=0.05,color='k',linestyle='--')\n",
    "plot.set_xticklabels(plot.get_xticklabels(),rotation=90);\n",
    "plt.savefig('logreg.png',bbox_inches='tight')\n",
    "plt.show()"
   ]
  },
  {
   "cell_type": "markdown",
   "metadata": {},
   "source": [
    "<h4> K-nearest Neighbors </h4>"
   ]
  },
  {
   "cell_type": "code",
   "execution_count": 29,
   "metadata": {},
   "outputs": [
    {
     "name": "stdout",
     "output_type": "stream",
     "text": [
      "validation accuracy:  0.3059210526315789\n",
      "train accuracy:  0.502116850127011\n"
     ]
    }
   ],
   "source": [
    "### normalized data - default parameters\n",
    "\n",
    "KN_model=sklearn.neighbors.KNeighborsClassifier()\n",
    "KN_model.fit(X_train_norm,y_train)\n",
    "KN_val_acc = accuracy(KN_model.predict(X_val_norm),y_val)\n",
    "KN_train_acc = accuracy(KN_model.predict(X_train_norm),y_train)\n",
    "print(\"validation accuracy: \",KN_val_acc)\n",
    "print(\"train accuracy: \",KN_train_acc)"
   ]
  },
  {
   "cell_type": "code",
   "execution_count": 30,
   "metadata": {},
   "outputs": [
    {
     "name": "stdout",
     "output_type": "stream",
     "text": [
      "GridSearchCV(cv=5, error_score='raise',\n",
      "       estimator=KNeighborsClassifier(algorithm='auto', leaf_size=30, metric='minkowski',\n",
      "           metric_params=None, n_jobs=1, n_neighbors=5, p=2,\n",
      "           weights='uniform'),\n",
      "       fit_params=None, iid=True, n_jobs=1,\n",
      "       param_grid={'n_neighbors': [5, 10, 15, 20, 50], 'weights': ['uniform', 'distance'], 'p': [1, 2, 3]},\n",
      "       pre_dispatch='2*n_jobs', refit=True, return_train_score='warn',\n",
      "       scoring=None, verbose=0)\n",
      "0.34631668077900085\n",
      "{'n_neighbors': 20, 'p': 1, 'weights': 'distance'}\n"
     ]
    },
    {
     "name": "stderr",
     "output_type": "stream",
     "text": [
      "C:\\Users\\Illan\\Anaconda3\\lib\\site-packages\\sklearn\\utils\\deprecation.py:122: FutureWarning: You are accessing a training score ('split0_train_score'), which will not be available by default any more in 0.21. If you need training scores, please set return_train_score=True\n",
      "  warnings.warn(*warn_args, **warn_kwargs)\n",
      "C:\\Users\\Illan\\Anaconda3\\lib\\site-packages\\sklearn\\utils\\deprecation.py:122: FutureWarning: You are accessing a training score ('split1_train_score'), which will not be available by default any more in 0.21. If you need training scores, please set return_train_score=True\n",
      "  warnings.warn(*warn_args, **warn_kwargs)\n",
      "C:\\Users\\Illan\\Anaconda3\\lib\\site-packages\\sklearn\\utils\\deprecation.py:122: FutureWarning: You are accessing a training score ('split2_train_score'), which will not be available by default any more in 0.21. If you need training scores, please set return_train_score=True\n",
      "  warnings.warn(*warn_args, **warn_kwargs)\n",
      "C:\\Users\\Illan\\Anaconda3\\lib\\site-packages\\sklearn\\utils\\deprecation.py:122: FutureWarning: You are accessing a training score ('split3_train_score'), which will not be available by default any more in 0.21. If you need training scores, please set return_train_score=True\n",
      "  warnings.warn(*warn_args, **warn_kwargs)\n",
      "C:\\Users\\Illan\\Anaconda3\\lib\\site-packages\\sklearn\\utils\\deprecation.py:122: FutureWarning: You are accessing a training score ('split4_train_score'), which will not be available by default any more in 0.21. If you need training scores, please set return_train_score=True\n",
      "  warnings.warn(*warn_args, **warn_kwargs)\n",
      "C:\\Users\\Illan\\Anaconda3\\lib\\site-packages\\sklearn\\utils\\deprecation.py:122: FutureWarning: You are accessing a training score ('mean_train_score'), which will not be available by default any more in 0.21. If you need training scores, please set return_train_score=True\n",
      "  warnings.warn(*warn_args, **warn_kwargs)\n",
      "C:\\Users\\Illan\\Anaconda3\\lib\\site-packages\\sklearn\\utils\\deprecation.py:122: FutureWarning: You are accessing a training score ('std_train_score'), which will not be available by default any more in 0.21. If you need training scores, please set return_train_score=True\n",
      "  warnings.warn(*warn_args, **warn_kwargs)\n"
     ]
    }
   ],
   "source": [
    "### Performs a search for optimal parameter values\n",
    "\n",
    "parameters = {'n_neighbors': [5,10,15,20,50],'weights': ['uniform','distance'],'p': [1,2,3]}\n",
    "KN_grid = GridSearchCV(KN_model, parameters, cv = 5)\n",
    "KN_grid.fit(X_train_norm,y_train)\n",
    "\n",
    "KN_results_df = pd.DataFrame(KN_grid.cv_results_)\n",
    "#print(KN_grid)\n",
    "print(KN_grid.best_score_)\n",
    "print(KN_grid.best_params_)"
   ]
  },
  {
   "cell_type": "code",
   "execution_count": 31,
   "metadata": {},
   "outputs": [
    {
     "name": "stdout",
     "output_type": "stream",
     "text": [
      "validation accuracy:  0.3651315789473684\n",
      "train accuracy:  1.0\n"
     ]
    }
   ],
   "source": [
    "### Trains and tests (on the validation set) our model for the optimal choice of parameter found above\n",
    "\n",
    "KN_model=sklearn.neighbors.KNeighborsClassifier(**KN_grid.best_params_)\n",
    "KN_model.fit(X_train_norm,y_train)\n",
    "KN_val_acc = accuracy(KN_model.predict(X_val_norm),y_val)\n",
    "KN_train_acc = accuracy(KN_model.predict(X_train_norm),y_train)\n",
    "print(\"validation accuracy: \",KN_val_acc)\n",
    "print(\"train accuracy: \",KN_train_acc)"
   ]
  },
  {
   "cell_type": "code",
   "execution_count": 33,
   "metadata": {},
   "outputs": [
    {
     "name": "stderr",
     "output_type": "stream",
     "text": [
      "C:\\Users\\Illan\\Anaconda3\\lib\\site-packages\\sklearn\\metrics\\classification.py:1135: UndefinedMetricWarning: Precision and F-score are ill-defined and being set to 0.0 in labels with no predicted samples.\n",
      "  'precision', 'predicted', average, warn_for)\n"
     ]
    },
    {
     "data": {
      "image/png": "[encoded data removed]",
      "text/plain": [
       "<Figure size 432x288 with 1 Axes>"
      ]
     },
     "metadata": {
      "needs_background": "light"
     },
     "output_type": "display_data"
    }
   ],
   "source": [
    "### Plots the accuracy of the model by category\n",
    "\n",
    "KN_eval=sklearn.metrics.precision_recall_fscore_support(y_val,KN_model.predict(X_val_norm),labels=range(20))\n",
    "plot=sns.barplot(x= categories,y=KN_eval[0])\n",
    "plt.ylim([0,1])\n",
    "plt.ylabel('Accuracy')\n",
    "plt.title('Accuracy by category, K-Nearest Neighbors')\n",
    "plot.axhline(y=0.05,color='k',linestyle='--')\n",
    "plot.set_xticklabels(plot.get_xticklabels(),rotation=90);\n",
    "plt.savefig('KN.png',bbox_inches='tight')\n",
    "plt.show()"
   ]
  },
  {
   "cell_type": "markdown",
   "metadata": {},
   "source": [
    "<h4> Random Forest (RF) </h4>"
   ]
  },
  {
   "cell_type": "code",
   "execution_count": 34,
   "metadata": {},
   "outputs": [
    {
     "name": "stdout",
     "output_type": "stream",
     "text": [
      "validation accuracy:  0.3618421052631579\n",
      "train accuracy:  0.9991532599491956\n"
     ]
    }
   ],
   "source": [
    "### un-normalized data - default parameters\n",
    "\n",
    "RF_model=ens.RandomForestClassifier(random_state=42)\n",
    "RF_model.fit(X_train,y_train)\n",
    "RF_val_acc = accuracy(RF_model.predict(X_val),y_val)\n",
    "RF_train_acc = accuracy(RF_model.predict(X_train),y_train)\n",
    "print(\"validation accuracy: \",RF_val_acc)\n",
    "print(\"train accuracy: \",RF_train_acc)"
   ]
  },
  {
   "cell_type": "code",
   "execution_count": 35,
   "metadata": {},
   "outputs": [
    {
     "name": "stdout",
     "output_type": "stream",
     "text": [
      "validation accuracy:  0.3125\n",
      "train accuracy:  0.9991532599491956\n"
     ]
    }
   ],
   "source": [
    "### normalized data - default parameters\n",
    "\n",
    "RF_model=ens.RandomForestClassifier(random_state=42)\n",
    "RF_model.fit(X_train_norm,y_train)\n",
    "RF_val_acc = accuracy(RF_model.predict(X_val_norm),y_val)\n",
    "RF_train_acc = accuracy(RF_model.predict(X_train_norm),y_train)\n",
    "print(\"validation accuracy: \",RF_val_acc)\n",
    "print(\"train accuracy: \",RF_train_acc)"
   ]
  },
  {
   "cell_type": "code",
   "execution_count": null,
   "metadata": {},
   "outputs": [],
   "source": [
    "### Performs a search for optimal parameter values\n",
    "\n",
    "parameters = { 'max_features':np.arange(5,10),'n_estimators':[200, 400, 600, 800, 1000],'min_samples_leaf': [10,50]}\n",
    "random_grid = GridSearchCV(RF_model, parameters, cv = 5)\n",
    "random_grid.fit(X_train,y_train)\n",
    "\n",
    "random_results_df = pd.DataFrame(random_grid.cv_results_)\n",
    "#print(random_grid)\n",
    "print(random_grid.best_score_)\n",
    "print(random_grid.best_params_)"
   ]
  },
  {
   "cell_type": "code",
   "execution_count": null,
   "metadata": {},
   "outputs": [],
   "source": [
    "### Trains and tests (on the validation set) our model for the optimal choice of parameter found above\n",
    "\n",
    "RF_model=ens.RandomForestClassifier(random_state=42,**random_grid.best_params_)\n",
    "RF_model.fit(X_train,y_train)\n",
    "RF_val_acc = accuracy(RF_model.predict(X_val),y_val)\n",
    "RF_train_acc = accuracy(RF_model.predict(X_train),y_train)\n",
    "print(\"validation accuracy: \",RF_val_acc)\n",
    "print(\"train accuracy: \",RF_train_acc)"
   ]
  },
  {
   "cell_type": "code",
   "execution_count": null,
   "metadata": {},
   "outputs": [],
   "source": [
    "### Plots the accuracy of the model by category\n",
    "\n",
    "RF_eval=sklearn.metrics.precision_recall_fscore_support(y_val,RF_model.predict(X_val),labels=range(20))\n",
    "plot=sns.barplot(x= categories,y=RF_eval[0])\n",
    "plt.ylim([0,1])\n",
    "plt.ylabel('Accuracy')\n",
    "plt.title('Accuracy by category, Random Forest')\n",
    "plot.axhline(y=0.05,color='k',linestyle='--')\n",
    "plot.set_xticklabels(plot.get_xticklabels(),rotation=90);\n",
    "plt.savefig('RF.png',bbox_inches='tight')\n",
    "plt.show()"
   ]
  },
  {
   "cell_type": "markdown",
   "metadata": {},
   "source": [
    "<h4> Support Vector Machine (SVM) </h4>"
   ]
  },
  {
   "cell_type": "code",
   "execution_count": null,
   "metadata": {},
   "outputs": [],
   "source": [
    "### always normalize for SVM since it's using Euclidean distance\n",
    "\n",
    "SVM_model=sklearn.svm.SVC(probability=True)\n",
    "SVM_model.fit(X_train_norm,y_train)\n",
    "SVM_val_acc = accuracy(SVM_model.predict(X_val_norm),y_val)\n",
    "SVM_train_acc = accuracy(SVM_model.predict(X_train_norm),y_train)\n",
    "print(\"validation accuracy: \",SVM_val_acc)\n",
    "print(\"train accuracy: \",SVM_train_acc)"
   ]
  },
  {
   "cell_type": "code",
   "execution_count": null,
   "metadata": {},
   "outputs": [],
   "source": [
    "### Performs a search for optimal parameter values\n",
    "\n",
    "parameters = {'C':[0.001, 0.01, 0.1, 1, 10,50,100,1000],'gamma':[0.0001,0.001, 0.01, 0.1, 1]}\n",
    "SVM_grid = GridSearchCV(SVM_model, parameters, cv = 5)\n",
    "SVM_grid.fit(X_train_norm,y_train)\n",
    "\n",
    "SVM_results_df = pd.DataFrame(SVM_grid.cv_results_)\n",
    "#print(SVM_grid)\n",
    "print(SVM_grid.best_score_)\n",
    "print(SVM_grid.best_params_)"
   ]
  },
  {
   "cell_type": "code",
   "execution_count": null,
   "metadata": {},
   "outputs": [],
   "source": [
    "### Trains and tests (on the validation set) our model for the optimal choice of parameter found above\n",
    "\n",
    "SVM_model=sklearn.svm.SVC(probability=True,**SVM_grid.best_params_)\n",
    "SVM_model.fit(X_train_norm,y_train)\n",
    "SVM_val_acc = accuracy(SVM_model.predict(X_val_norm),y_val)\n",
    "SVM_train_acc = accuracy(SVM_model.predict(X_train_norm),y_train)\n",
    "print(\"validation accuracy: \",SVM_val_acc)\n",
    "print(\"train accuracy: \",SVM_train_acc)"
   ]
  },
  {
   "cell_type": "code",
   "execution_count": null,
   "metadata": {},
   "outputs": [],
   "source": [
    "### Plots the accuracy of the model by category\n",
    "\n",
    "SVM_eval=sklearn.metrics.precision_recall_fscore_support(y_val,SVM_model.predict(X_val_norm),labels=range(20))\n",
    "plot=sns.barplot(x= categories,y=SVM_eval[0])\n",
    "plt.ylim([0,1])\n",
    "plt.ylabel('Accuracy')\n",
    "plt.title('Accuracy by category, Support Vector Machine')\n",
    "plot.axhline(y=0.05,color='k',linestyle='--')\n",
    "plot.set_xticklabels(plot.get_xticklabels(),rotation=90);\n",
    "plt.savefig('SVM.png',bbox_inches='tight')\n",
    "plt.show()"
   ]
  },
  {
   "cell_type": "markdown",
   "metadata": {},
   "source": [
    "<h4> Blending the models? </h4>"
   ]
  },
  {
   "cell_type": "code",
   "execution_count": null,
   "metadata": {},
   "outputs": [],
   "source": [
    "KN_probs = KN_model.predict_proba(X_val_norm)\n",
    "RF_probs = RF_model.predict_proba(X_val)\n",
    "SVM_probs = SVM_model.predict_proba(X_val_norm)\n",
    "logreg_probs = logreg_model.predict_proba(X_val_norm)\n",
    "\n",
    "a,b,c,d = 1,1,1,1 ## weights of KN, RF, SVM, logreg\n",
    "blend_val_acc = np.zeros((10,10,10,10))\n",
    "for a in range(10):\n",
    "    for b in range(10):\n",
    "        for c in range(10):\n",
    "            for d in range(10):\n",
    "                avg_probs = (a*KN_probs + b*RF_probs + c*SVM_probs + d*logreg_probs) # no need to sum to 1\n",
    "                avg_predictions = np.argmax(avg_probs,axis=1)\n",
    "                blend_val_acc[a,b,c,d] = accuracy(avg_predictions,y_val)\n",
    "a_best,b_best,c_best,d_best = np.unravel_index(np.argmax(blend_val_acc), (10,10,10,10))\n",
    "print(\"best validation accuracy:\",np.max(blend_val_acc))\n",
    "print(\"best weights: a,b,c,d =\",(a_best,b_best,c_best,d_best))\n",
    "\n",
    "### Note from GSI - we are not allowed to mix the models. :("
   ]
  },
  {
   "cell_type": "code",
   "execution_count": null,
   "metadata": {},
   "outputs": [],
   "source": [
    "### Weight the models by their accuracies in each category\n",
    "\n",
    "weighted_RF = RF_model.predict_proba(X_val) * accuracies(RF_model.predict(X_val),y_val)\n",
    "weighted_KN = KN_model.predict_proba(X_val_norm) * accuracies(KN_model.predict(X_val_norm),y_val)\n",
    "weighted_SVM = SVM_model.predict_proba(X_val_norm) * accuracies(SVM_model.predict(X_val_norm),y_val)\n",
    "weighted_logreg = logreg_model.predict_proba(X_val_norm) * accuracies(logreg_model.predict(X_val_norm),y_val)\n",
    "predictions = np.argmax(weighted_RF + weighted_KN + weighted_SVM + weighted_logreg,axis=1)\n",
    "print(accuracy(predictions,y_val))\n",
    "print(accuracies(predictions,y_val))"
   ]
  },
  {
   "cell_type": "code",
   "execution_count": null,
   "metadata": {},
   "outputs": [],
   "source": [
    "a,b,c,d = 1,1,1,1 ## weights of KN, RF, SVM, logreg\n",
    "blend_val_acc = np.zeros((10,10,10,10))\n",
    "for a in range(10):\n",
    "    for b in range(10):\n",
    "        for c in range(10):\n",
    "            for d in range(10):\n",
    "                avg_probs = (a*weighted_KN + b*weighted_RF + c*weighted_SVM + d*weighted_logreg) # no need to sum to 1\n",
    "                avg_predictions = np.argmax(avg_probs,axis=1)\n",
    "                blend_val_acc[a,b,c,d] = accuracy(avg_predictions,y_val)\n",
    "a_best,b_best,c_best,d_best = np.unravel_index(np.argmax(blend_val_acc), (10,10,10,10))\n",
    "print(\"best validation accuracy:\",np.max(blend_val_acc))\n",
    "print(\"best weights: a,b,c,d =\",(a_best,b_best,c_best,d_best))"
   ]
  },
  {
   "cell_type": "markdown",
   "metadata": {},
   "source": [
    "<h3> Predictions <h/3>"
   ]
  },
  {
   "cell_type": "code",
   "execution_count": 259,
   "metadata": {},
   "outputs": [],
   "source": [
    "### load the feature frames\n",
    "data_file = Path('/Users/will/Documents/Berkeley/Classes/DS100/Projects/GradProject', \"test_features.hdf\") # Path of hdf file\n",
    "test_features_color = pd.read_hdf(data_file, \"test_features_color\")\n",
    "test_features_gray = pd.read_hdf(data_file,\"test_features_gray\")"
   ]
  },
  {
   "cell_type": "code",
   "execution_count": 317,
   "metadata": {},
   "outputs": [
    {
     "name": "stdout",
     "output_type": "stream",
     "text": [
      "total expected accuracy:  0.400072490815\n"
     ]
    }
   ],
   "source": [
    "### SVM perfomed the best of all the models we considered, so here we use it as our final model to make our predictions.\n",
    "final_model = sklearn.svm.SVC(probability=True,C=50,gamma=0.01)\n",
    "final_model.fit(X_train_norm,y_train)\n",
    "\n",
    "final_model_gray = sklearn.svm.SVC(probability=True,C=50,gamma=0.01)\n",
    "final_model_gray.fit(X_train_norm_gray,y_train_gray)\n",
    "# print(accuracy(final_model_gray.predict(normalize(X_val_gray)),y_val_gray)) ## diagnose gray validation accuracy -- returns 37%\n",
    "acc_tot = (len(test_features_gray) / (len(test_features_color)+len(test_features_gray))) * accuracy(final_model_gray.predict(X_val_norm_gray),y_val_gray) + (len(test_features_color) / (len(test_features_color)+len(test_features_gray))) * accuracy(final_model.predict(X_val_norm),y_val)\n",
    "print(\"total expected accuracy: \",acc_tot)\n",
    "\n",
    "predictions_color = pd.DataFrame(final_model.predict(normalize(test_features_color)),index=test_features_color.index)\n",
    "predictions_gray = pd.DataFrame(final_model_gray.predict(normalize(test_features_gray)),index=test_features_gray.index)\n",
    "\n",
    "final_predictions = predictions_color.append(predictions_gray).sort_index()\n",
    "final_predictions.to_csv('predictions.csv')"
   ]
  }
 ],
 "metadata": {
  "kernelspec": {
   "display_name": "Python 3",
   "language": "python",
   "name": "python3"
  },
  "language_info": {
   "codemirror_mode": {
    "name": "ipython",
    "version": 3
   },
   "file_extension": ".py",
   "mimetype": "text/x-python",
   "name": "python",
   "nbconvert_exporter": "python",
   "pygments_lexer": "ipython3",
   "version": "3.6.9"
  }
 },
 "nbformat": 4,
 "nbformat_minor": 2
}
